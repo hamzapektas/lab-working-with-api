{
 "cells": [
  {
   "cell_type": "code",
   "execution_count": 1,
   "id": "039d53ef",
   "metadata": {},
   "outputs": [],
   "source": [
    "import requests\n",
    "import pandas as pd\n",
    "import json"
   ]
  },
  {
   "cell_type": "code",
   "execution_count": 2,
   "id": "9f76c734",
   "metadata": {},
   "outputs": [
    {
     "name": "stdout",
     "output_type": "stream",
     "text": [
      "········\n"
     ]
    }
   ],
   "source": [
    "import getpass\n",
    "rapidAPIkey = getpass.getpass()"
   ]
  },
  {
   "cell_type": "code",
   "execution_count": 3,
   "id": "1d0aee6c",
   "metadata": {},
   "outputs": [
    {
     "data": {
      "text/plain": [
       "{'Places': [{'PlaceId': 'MOSC-sky',\n",
       "   'PlaceName': 'Moscow',\n",
       "   'CountryId': 'RU-sky',\n",
       "   'RegionId': '',\n",
       "   'CityId': 'MOSC-sky',\n",
       "   'CountryName': 'Russia'},\n",
       "  {'PlaceId': 'VKO-sky',\n",
       "   'PlaceName': 'Moscow Vnukovo',\n",
       "   'CountryId': 'RU-sky',\n",
       "   'RegionId': '',\n",
       "   'CityId': 'MOSC-sky',\n",
       "   'CountryName': 'Russia'},\n",
       "  {'PlaceId': 'SVO-sky',\n",
       "   'PlaceName': 'Moscow Sheremetyevo',\n",
       "   'CountryId': 'RU-sky',\n",
       "   'RegionId': '',\n",
       "   'CityId': 'MOSC-sky',\n",
       "   'CountryName': 'Russia'},\n",
       "  {'PlaceId': 'DME-sky',\n",
       "   'PlaceName': 'Moscow Domodedovo',\n",
       "   'CountryId': 'RU-sky',\n",
       "   'RegionId': '',\n",
       "   'CityId': 'MOSC-sky',\n",
       "   'CountryName': 'Russia'},\n",
       "  {'PlaceId': 'OSF-sky',\n",
       "   'PlaceName': 'Moscow Ostafyevo',\n",
       "   'CountryId': 'RU-sky',\n",
       "   'RegionId': '',\n",
       "   'CityId': 'MOSC-sky',\n",
       "   'CountryName': 'Russia'},\n",
       "  {'PlaceId': 'ZIA-sky',\n",
       "   'PlaceName': 'Moscow Zhukovsky',\n",
       "   'CountryId': 'RU-sky',\n",
       "   'RegionId': '',\n",
       "   'CityId': 'MOSC-sky',\n",
       "   'CountryName': 'Russia'}]}"
      ]
     },
     "execution_count": 3,
     "metadata": {},
     "output_type": "execute_result"
    }
   ],
   "source": [
    "url = \"https://skyscanner-skyscanner-flight-search-v1.p.rapidapi.com/apiservices/autosuggest/v1.0/UK/GBP/en-GB/\"\n",
    "\n",
    "params = {\"query\":\"Moscow\"}\n",
    "\n",
    "headers = {'x-rapidapi-host': \"skyscanner-skyscanner-flight-search-v1.p.rapidapi.com\",\n",
    "           'x-rapidapi-key': rapidAPIkey}\n",
    "\n",
    "response = requests.get(url, headers = headers, params = params)\n",
    "response.json()"
   ]
  },
  {
   "cell_type": "code",
   "execution_count": 66,
   "id": "15779138",
   "metadata": {},
   "outputs": [
    {
     "name": "stdout",
     "output_type": "stream",
     "text": [
      "['Moscow', 'Moscow Vnukovo', 'Moscow Sheremetyevo', 'Moscow Domodedovo', 'Moscow Ostafyevo', 'Moscow Zhukovsky']\n"
     ]
    }
   ],
   "source": [
    "# obj = response.json()\n",
    "# obj['Places']\n",
    "# pn = []\n",
    "# for ap in obj['Places']:\n",
    "#     pn.append(ap['PlaceName'])\n",
    "\n",
    "# print(pn)"
   ]
  },
  {
   "cell_type": "code",
   "execution_count": null,
   "id": "0aeed2c1",
   "metadata": {},
   "outputs": [],
   "source": [
    "# response.json()['Places']"
   ]
  },
  {
   "cell_type": "code",
   "execution_count": 4,
   "id": "a6c0c545",
   "metadata": {},
   "outputs": [],
   "source": [
    "def airport_code(airport_name):\n",
    "    url = \"https://skyscanner-skyscanner-flight-search-v1.p.rapidapi.com/apiservices/autosuggest/v1.0/UK/GBP/en-GB/\"\n",
    "\n",
    "    params = {\"query\":airport_name}\n",
    "\n",
    "    headers = {'x-rapidapi-host': \"skyscanner-skyscanner-flight-search-v1.p.rapidapi.com\",\n",
    "               'x-rapidapi-key': rapidAPIkey}\n",
    "\n",
    "    response = requests.get(url, headers = headers, params = params)\n",
    "    return response.json()['Places'][0]['CityId']\n",
    "    \n",
    "#     airport_name = []\n",
    "#     for ap in response.json()['Places']:\n",
    "#         airport_name.append(ap['PlaceId'])\n",
    "    \n",
    "#     return airport_name"
   ]
  },
  {
   "cell_type": "code",
   "execution_count": 5,
   "id": "0640e9d8",
   "metadata": {},
   "outputs": [
    {
     "data": {
      "text/plain": [
       "'LOND-sky'"
      ]
     },
     "execution_count": 5,
     "metadata": {},
     "output_type": "execute_result"
    }
   ],
   "source": [
    "airport_code('London')"
   ]
  },
  {
   "cell_type": "code",
   "execution_count": 6,
   "id": "3bb64e02",
   "metadata": {},
   "outputs": [],
   "source": [
    "def flight_prices(origin, arrival, date):\n",
    "    origin_port = airport_code(origin)\n",
    "    arrival_port = airport_code(arrival)\n",
    "    url = f\"https://skyscanner-skyscanner-flight-search-v1.p.rapidapi.com/apiservices/browsequotes/v1.0/US/USD/en-US/{origin_port}/{arrival_port}/{date}\"\n",
    "    params = {\"inboundpartialdate\":{date}}\n",
    "    headers = {\n",
    "    'x-rapidapi-host': \"skyscanner-skyscanner-flight-search-v1.p.rapidapi.com\",\n",
    "    'x-rapidapi-key': rapidAPIkey}\n",
    "    response = requests.get(url, headers=headers, params=params)\n",
    "    \n",
    "    \n",
    "    quotes = pd.DataFrame(pd.json_normalize(response.json())[\"Quotes\"][0])\n",
    "    quotes.set_index(quotes.columns[0], inplace=True)\n",
    "\n",
    "    carriers = pd.DataFrame(pd.json_normalize(response.json())[\"Carriers\"][0])\n",
    "    carriers.set_index(carriers.columns[0], inplace=True)\n",
    "\n",
    "    places = pd.DataFrame(pd.json_normalize(response.json())[\"Places\"][0])\n",
    "    places.set_index([\"PlaceId\"], inplace=True)\n",
    "    \n",
    "    df = pd.DataFrame(columns=['date','price','origin_airport','arrival_airport','airline'])\n",
    "    \n",
    "    \n",
    "    for i in range(1,len(quotes)+1):\n",
    "        pri = quotes.MinPrice[i]\n",
    "        oriair = places.Name[quotes.OutboundLeg[i]['OriginId']]\n",
    "        arrair = places.Name[quotes.OutboundLeg[i]['DestinationId']]\n",
    "        airl = carriers.Name[quotes.OutboundLeg[i]['CarrierIds'][0]]\n",
    "        df.loc[df.shape[0]] = [date, pri, oriair, arrair, airl]\n",
    "        \n",
    "    return df\n"
   ]
  },
  {
   "cell_type": "code",
   "execution_count": 7,
   "id": "ada081b1",
   "metadata": {},
   "outputs": [],
   "source": [
    "def get_dates(start, end):\n",
    "    return pd.Series(pd.date_range(start, end,freq='d').format())"
   ]
  },
  {
   "cell_type": "code",
   "execution_count": 12,
   "id": "130001d2",
   "metadata": {},
   "outputs": [],
   "source": [
    "def flight_days(origin, destination, start, end):\n",
    "    dates = get_dates(start, end)\n",
    "    df = pd.DataFrame(columns=['date','price','origin_airport','arrival_airport','airline'])\n",
    "    \n",
    "    for date in dates:\n",
    "        x = flight_prices(origin, destination, date)\n",
    "        df = pd.concat([df, x], axis=0)\n",
    "    df.reset_index(drop=True, inplace=True)\n",
    "    return df"
   ]
  },
  {
   "cell_type": "code",
   "execution_count": 13,
   "id": "4c8bb122",
   "metadata": {},
   "outputs": [
    {
     "data": {
      "text/html": [
       "<div>\n",
       "<style scoped>\n",
       "    .dataframe tbody tr th:only-of-type {\n",
       "        vertical-align: middle;\n",
       "    }\n",
       "\n",
       "    .dataframe tbody tr th {\n",
       "        vertical-align: top;\n",
       "    }\n",
       "\n",
       "    .dataframe thead th {\n",
       "        text-align: right;\n",
       "    }\n",
       "</style>\n",
       "<table border=\"1\" class=\"dataframe\">\n",
       "  <thead>\n",
       "    <tr style=\"text-align: right;\">\n",
       "      <th></th>\n",
       "      <th>date</th>\n",
       "      <th>price</th>\n",
       "      <th>origin_airport</th>\n",
       "      <th>arrival_airport</th>\n",
       "      <th>airline</th>\n",
       "    </tr>\n",
       "  </thead>\n",
       "  <tbody>\n",
       "    <tr>\n",
       "      <th>0</th>\n",
       "      <td>2021-09-28</td>\n",
       "      <td>37</td>\n",
       "      <td>Amsterdam</td>\n",
       "      <td>London Stansted</td>\n",
       "      <td>Ryanair</td>\n",
       "    </tr>\n",
       "    <tr>\n",
       "      <th>1</th>\n",
       "      <td>2021-09-28</td>\n",
       "      <td>45</td>\n",
       "      <td>Amsterdam</td>\n",
       "      <td>London Stansted</td>\n",
       "      <td>easyJet</td>\n",
       "    </tr>\n",
       "    <tr>\n",
       "      <th>2</th>\n",
       "      <td>2021-09-29</td>\n",
       "      <td>41</td>\n",
       "      <td>Amsterdam</td>\n",
       "      <td>London Stansted</td>\n",
       "      <td>easyJet</td>\n",
       "    </tr>\n",
       "    <tr>\n",
       "      <th>3</th>\n",
       "      <td>2021-09-30</td>\n",
       "      <td>41</td>\n",
       "      <td>Amsterdam</td>\n",
       "      <td>London Stansted</td>\n",
       "      <td>easyJet</td>\n",
       "    </tr>\n",
       "    <tr>\n",
       "      <th>4</th>\n",
       "      <td>2021-10-01</td>\n",
       "      <td>41</td>\n",
       "      <td>Amsterdam</td>\n",
       "      <td>London Stansted</td>\n",
       "      <td>easyJet</td>\n",
       "    </tr>\n",
       "    <tr>\n",
       "      <th>5</th>\n",
       "      <td>2021-10-02</td>\n",
       "      <td>41</td>\n",
       "      <td>Amsterdam</td>\n",
       "      <td>London Stansted</td>\n",
       "      <td>Ryanair</td>\n",
       "    </tr>\n",
       "    <tr>\n",
       "      <th>6</th>\n",
       "      <td>2021-10-02</td>\n",
       "      <td>41</td>\n",
       "      <td>Amsterdam</td>\n",
       "      <td>London Stansted</td>\n",
       "      <td>easyJet</td>\n",
       "    </tr>\n",
       "  </tbody>\n",
       "</table>\n",
       "</div>"
      ],
      "text/plain": [
       "         date price origin_airport  arrival_airport  airline\n",
       "0  2021-09-28    37      Amsterdam  London Stansted  Ryanair\n",
       "1  2021-09-28    45      Amsterdam  London Stansted  easyJet\n",
       "2  2021-09-29    41      Amsterdam  London Stansted  easyJet\n",
       "3  2021-09-30    41      Amsterdam  London Stansted  easyJet\n",
       "4  2021-10-01    41      Amsterdam  London Stansted  easyJet\n",
       "5  2021-10-02    41      Amsterdam  London Stansted  Ryanair\n",
       "6  2021-10-02    41      Amsterdam  London Stansted  easyJet"
      ]
     },
     "execution_count": 13,
     "metadata": {},
     "output_type": "execute_result"
    }
   ],
   "source": [
    "flight_days(\"Amsterdam\", \"London\", \"2021-09-28\", \"2021-10-02\")"
   ]
  },
  {
   "cell_type": "code",
   "execution_count": null,
   "id": "fca36ea4",
   "metadata": {},
   "outputs": [],
   "source": []
  }
 ],
 "metadata": {
  "kernelspec": {
   "display_name": "Python 3",
   "language": "python",
   "name": "python3"
  },
  "language_info": {
   "codemirror_mode": {
    "name": "ipython",
    "version": 3
   },
   "file_extension": ".py",
   "mimetype": "text/x-python",
   "name": "python",
   "nbconvert_exporter": "python",
   "pygments_lexer": "ipython3",
   "version": "3.8.8"
  }
 },
 "nbformat": 4,
 "nbformat_minor": 5
}
